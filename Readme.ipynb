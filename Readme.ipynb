{
 "metadata": {
  "language_info": {
   "codemirror_mode": {
    "name": "ipython",
    "version": 3
   },
   "file_extension": ".py",
   "mimetype": "text/x-python",
   "name": "python",
   "nbconvert_exporter": "python",
   "pygments_lexer": "ipython3",
   "version": "3.6.5-final"
  },
  "orig_nbformat": 2,
  "kernelspec": {
   "name": "python365jvsc74a57bd0e134e05457d34029b6460cd73bbf1ed73f339b5b6d98c95be70b69eba114fe95",
   "display_name": "Python 3.6.5 64-bit ('base': conda)"
  }
 },
 "nbformat": 4,
 "nbformat_minor": 2,
 "cells": [
  {
   "source": [
    "# **Vlasolver: Grid-Based Kinetic Vlasov Equation Solver**\n",
    "\n",
    "A high-performance grid-based kinetic Vlasov solver for computational plasma dynamics, main application scopes focus on electric propulsion plasma simulation and space plasma turbulence/instabilities simulation and basic plasma dynamics. This readme file serves to show the outline and preliminary results for this project."
   ],
   "cell_type": "markdown",
   "metadata": {}
  },
  {
   "source": [
    "## 1. **Author, Contributor and Maintainer**\n",
    "* **Author and Maintainer**\n",
    "          \n",
    "    Chen Cui (cuichen@usc.edu)\n",
    "\n",
    "* **Contributor**  \n",
    "    \n",
    "    Qiancheng Zhao (qianchez@usc.edu)"
   ],
   "cell_type": "markdown",
   "metadata": {}
  },
  {
   "source": [
    "## 2. **Models and Equations for Vlasolver**\n",
    "The model used in this work is a Vlasov-Poisson system which is a kinetic description of the electrostatic collisionless plasma system(with or without the external B field). The Vlasov equation can be written as:\n",
    "\\begin{equation}\n",
    "\\frac{\\partial f_\\alpha}{\\partial t}+\\boldsymbol{v}\\cdot\\nabla_{\\boldsymbol{x}}f_{\\alpha}+\\boldsymbol{a}\\cdot\\nabla_{\\boldsymbol{v}}f_{\\alpha}=0 \n",
    "\\end{equation}\n",
    "where $f_\\alpha(x, v, t)$ is the velocity distribution function. The acceleration term  is\n",
    "\\begin{equation}\n",
    "\\boldsymbol{a}=\\frac{F_{\\alpha}}{m_{\\alpha}}=\\frac{q_{\\alpha}\\cdot\\boldsymbol{E}+\\boldsymbol{v}\\times\\boldsymbol{B}}{m_{\\alpha}}=\\frac{-q_{\\alpha}\\nabla\\Phi+\\boldsymbol{v}\\times\\boldsymbol{B}}{m_\\alpha}\n",
    "\\end{equation}\n",
    "if the external B field is included and\n",
    "\\begin{equation}\n",
    "\\boldsymbol{a}=\\frac{F_{\\alpha}}{m_{\\alpha}}=\\frac{q_{\\alpha}\\cdot\\boldsymbol{E}}{m_{\\alpha}}=\\frac{-q_{\\alpha}\\nabla\\Phi}{m_\\alpha}\n",
    "\\end{equation}\n",
    "if the external B field is not included.\n",
    "\n",
    "The  electric potential. $\\Phi$ needs to be solved self-consistently  using the Poisson equation\n",
    "\\begin{equation}\n",
    "\\nabla\\cdot(\\epsilon_0\\nabla\\Phi)=-e(Z_in_i-n_e)\n",
    "\\end{equation}\n",
    "where  $Z_i$, $n_i$, and $n_e$ denote the charge number, ion number density, and electron number density, respectively. \n",
    "The macroscopic properties of the plasma are described  by the moments  of the VDF\n",
    "\\begin{equation}\n",
    "<M_n>=\\int_{-\\infty}^{\\infty}{M_n\\hat{f}d\\boldsymbol{v}}\n",
    "\\end{equation}"
   ],
   "cell_type": "markdown",
   "metadata": {}
  },
  {
   "source": [
    "## 3. **Simulation Methods**\n",
    "\n"
   ],
   "cell_type": "markdown",
   "metadata": {}
  }
 ]
}